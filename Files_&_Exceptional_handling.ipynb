{
  "cells": [
    {
      "cell_type": "markdown",
      "metadata": {
        "id": "FUaAf5fQlhlg"
      },
      "source": [
        "# Files and Exceptional handling >>"
      ]
    },
    {
      "cell_type": "markdown",
      "metadata": {
        "id": "85cMvGpylhlj"
      },
      "source": [
        "### 1. Discuss the scenarios where multithreading is preferable to multiprocessing and scenarios where multiprocessing is a better choice."
      ]
    },
    {
      "cell_type": "markdown",
      "metadata": {
        "id": "C-HJTXAHlhlj"
      },
      "source": [
        "### Answer -\n",
        "\n",
        "Multithreading and multiprocessing are both techniques for achieving concurrent execution (multiple tasks) in computer programs, while they both aim to achieve parallelism but they have different characteristics that make each more suitable for certain scenarios.\n",
        "\n",
        "When to prefer one over the other:-\n",
        "\n",
        "Scenarios where multithreading is preferable:\n",
        "\n",
        "* Definition:- Multithreading involves creating multiple threads within a single process. These threads share the same memory space and can communicate directly with each other. Spend a lot of time waiting for external events.\n",
        "\n",
        "1. I/O-bound tasks:\n",
        "   - When the program spends most of its time waiting for input/output operations (e.g., network requests/operations, file I/O), multithreading can be more efficient.\n",
        "   - Threads can easily switch context when one is waiting for I/O, allowing other threads to utilize the CPU.\n",
        "\n",
        "2. Shared memory requirements:\n",
        "   - If the tasks need to frequently share data, multithreading provides easier and faster access to shared memory.\n",
        "   - Threads within the same process can directly access shared variables.\n",
        "\n",
        "3. Lightweight concurrency:\n",
        "   - When need to run many small, short-lived tasks concurrently, threads have less overhead than processes.\n",
        "   - Creating and destroying threads is generally faster than doing so with processes.\n",
        "\n",
        "4. GUI applications:\n",
        "   - In graphical user interfaces, multithreading is often used to keep the UI responsive while performing background tasks.\n",
        "\n",
        "5. Fine-grained parallelism:\n",
        "   - For problems that require frequent synchronization or communication between parallel tasks, threads can be more efficient due to their shared memory model.\n",
        "\n",
        "6. Web Scraping:\n",
        "   - When scraping data from multiple web pages, threads can handle multiple requests simultaneously, making the process faster.\n",
        "\n",
        "Scenarios where multiprocessing is preferable:\n",
        "\n",
        "* Definition:- Multiprocessing involves creating multiple processes, each with its own memory space. These processes communicate indirectly through mechanisms like pipes, sockets, or shared memory.\n",
        "\n",
        "1. CPU-bound tasks:\n",
        "   - When the program is computationally intensive and doesn't involve much\n",
        "   I/O, multiprocessing can fully utilize multiple CPU cores.\n",
        "   These are tasks that require significant computational power and benefit from parallel execution.\n",
        "   - Each process runs on its own core, achieving true parallelism.\n",
        "\n",
        "2. Memory isolation:\n",
        "   - If it need strong isolation between concurrent tasks for security or stability reasons, separate processes provide better isolation than threads.\n",
        "   - A crash in one process won't affect others, unlike with threads.\n",
        "\n",
        "3. Large-scale parallelism:\n",
        "   - For tasks that can be easily divided into independent subtasks with minimal inter-task communication, multiprocessing can scale better across multiple machines or a large number of cores.\n",
        "\n",
        "4. Avoiding Global Interpreter Lock (GIL) in Python:\n",
        "   - In CPython, the GIL prevents true multi-core execution for CPU-bound tasks using threads. Multiprocessing bypasses this limitation.\n",
        "\n",
        "5. Legacy code integration:\n",
        "   - When integrating with older systems or libraries that aren't thread-safe, using separate processes can be safer and easier.\n",
        "\n",
        "6. Long-running background tasks:\n",
        "   - For tasks that need to run continuously in the background, separate processes can be more robust and easier to manage.\n",
        "\n",
        "Considerations:\n",
        "\n",
        "- Resource usage: Processes generally use more memory than threads due to separate memory spaces.\n",
        "- Complexity: Inter-process communication is often more complex than inter-thread communication.\n",
        "- Scalability: Multiprocessing generally scales better across multiple machines in distributed systems.\n",
        "- Language and platform specifics: The choice may also depend on the programming language and operating system you're using, as their implementations of threading and multiprocessing can vary.\n",
        "\n",
        "In practice, many applications use a combination of both techniques, leveraging the strengths of each where appropriate. The best choice depends on the specific requirements and characteristics of our application."
      ]
    },
    {
      "cell_type": "markdown",
      "metadata": {
        "id": "Yxs2dRZ1lhlk"
      },
      "source": [
        "### 2. Describe what a process pool is and how it helps in managing multiple processes efficiently.\n"
      ]
    },
    {
      "cell_type": "markdown",
      "metadata": {
        "id": "9vQTndIolhlk"
      },
      "source": [
        "### Answer -\n",
        "\n",
        "A process pool is a programming concept used for parallel processing and efficient management of multiple processes.\n",
        "\n",
        "A process pool is a group of pre-initialized worker processes that stand ready to perform tasks. Instead of creating and destroying processes for each task, which can be resource-intensive, the pool maintains a set of reusable processes.\n",
        "\n",
        "Mechanism:\n",
        "1. Process Creation: A certain number of processes are created and initialized upfront. These processes are idle, waiting for tasks to be assigned.\n",
        "2. Task Submission: When a task needs to be executed, it is submitted to the process pool.\n",
        "3. Task Assignment: The process pool assigns the task to one of its idle processes.\n",
        "4. Task Execution: The assigned process executes the task.\n",
        "5. Process Reuse: Once the task is completed, the process returns to the pool and becomes available for another task.\n",
        "\n",
        "Key benefits:\n",
        "1. Reduced overhead: Avoids frequent process creation/destruction.\n",
        "2. Improved performance: By having pre-created processes ready to go, the overhead of creating new processes for each task is reduced, leading to faster task execution startup.\n",
        "3. Resource management: Limits concurrent processes to prevent system overload.\n",
        "4. Load balancing: Distributes tasks across available workers.\n",
        "5. Simplified Programming: Using a process pool can simplify the programming model by abstracting away the complexities of process creation and management. Developers can focus on writing the tasks to be executed without worrying about the underlying process mechanics.\n",
        "\n",
        "Use cases:\n",
        "1. Parallel Processing: Process pools are ideal for applications that need to perform multiple tasks simultaneously, such as data processing, scientific simulations, or web scraping.\n",
        "2. I/O-Bound Tasks: Process pools can be effective for handling I/O-bound tasks, where the application spends a significant amount of time waiting for input/output operations. By using multiple processes, the application can overlap I/O operations with other tasks, improving overall throughput.\n",
        "3. CPU-Bound Tasks: While process pools can be used for CPU-bound tasks, they may not be as efficient as other techniques like multithreading, as creating and managing multiple processes can introduce overhead.\n",
        "4. Machine Learning: Training machine learning models can be accelerated by distributing the workload across multiple processes in a process pool.\n",
        "\n",
        "* In summary, a process pool is a valuable tool for improving the performance and efficiency of applications that need to handle multiple concurrent tasks. By pre-creating processes and effectively managing their assignment, process pools can help reduce overhead, optimize resource usage, and simplify the programming model."
      ]
    },
    {
      "cell_type": "markdown",
      "metadata": {
        "id": "Y5u0vOI7lhlk"
      },
      "source": [
        "### 3. Explain what multiprocessing is and why it is used in Python programs."
      ]
    },
    {
      "cell_type": "markdown",
      "metadata": {
        "id": "OVGlzkCXlhlk"
      },
      "source": [
        "### Answer -\n",
        "\n",
        "Multiprocessing in Python is a technique that allows multiple processes to run concurrently each with its own memory space and Python interpreter, leveraging the full potential of multi-core CPUs. It is a powerful tool for improving the performance of computationally intensive tasks by distributing the workload across multiple processes.\n",
        "\n",
        "Key benefits of using multiprocessing:-\n",
        "\n",
        "* Improved Performance: By dividing tasks among multiple processes, multiprocessing can significantly speed up execution times, especially for CPU-bound tasks.\n",
        "* CPU Utilization: Multiprocessing enables efficient use of available CPU cores, preventing idle resources and maximizing system performance.\n",
        "* Non-Blocking Operations: Multiprocessing can be used to perform long-running tasks without blocking the main program, allowing for more responsive applications.\n",
        "* Isolation: Each process runs in its own memory space, providing isolation  reducing the risk of shared state issues common in multithreading and preventing interference\n",
        "  between tasks.\n",
        "* Scalability: Easier to scale across multiple machines or cores compared to single-process applications.\n",
        "\n",
        "Common use cases for multiprocessing in Python:-\n",
        "\n",
        "* Data Processing: Handling large datasets, performing complex calculations, or analyzing data can benefit from multiprocessing.\n",
        "* Scientific Computing: Simulations, numerical analysis, and machine learning algorithms can be accelerated using multiprocessing.\n",
        "* I/O-Bound Tasks: While multiprocessing is primarily for CPU-bound tasks, it can also be used to improve performance for I/O-bound operations by offloading tasks to separate processes.\n",
        "* Web Scraping: Fetching and processing data from multiple web pages can be parallelized using multiprocessing.\n",
        "* Bypass the Global Interpreter Lock (GIL): Unlike threading, multiprocessing avoids Python's GIL limitations, allowing CPU-bound tasks to run in parallel.\n",
        "\n",
        "How multiprocessing works:-\n",
        "\n",
        "* Create Processes: Multiple processes are created using the multiprocessing module.\n",
        "* Assign Tasks: Tasks are divided among the processes.\n",
        "* Process Execution: Each process executes its assigned task independently.\n",
        "* Result Collection: The results from each process are collected and combined."
      ]
    },
    {
      "cell_type": "code",
      "execution_count": 5,
      "metadata": {
        "colab": {
          "base_uri": "https://localhost:8080/"
        },
        "id": "S7vy66cwlxPE",
        "outputId": "5a883d6b-04b1-46a9-c6b8-d3592f5cdcd0"
      },
      "outputs": [
        {
          "name": "stdout",
          "output_type": "stream",
          "text": [
            "[1, 4, 9, 16, 25]\n",
            "[1, 4, 9, 16, 25]\n"
          ]
        }
      ],
      "source": [
        "#Example >>\n",
        "import multiprocessing\n",
        "\n",
        "def square(x):\n",
        "    return x * x\n",
        "\n",
        "if __name__ == \"__main__\":\n",
        "    pool = multiprocessing.Pool()\n",
        "    numbers = [1, 2, 3, 4, 5]\n",
        "    results = pool.map(square, numbers)\n",
        "    print(results)\n",
        "\n",
        "    print(results)"
      ]
    },
    {
      "cell_type": "markdown",
      "metadata": {
        "id": "wfcz1jzplhll"
      },
      "source": [
        "### 4. Write a Python program using multithreading where one thread adds numbers to a list, and another thread removes numbers from the list. Implement a mechanism to avoid race conditions using threading.Lock.\n",
        "\n",
        "* Answer -"
      ]
    },
    {
      "cell_type": "code",
      "execution_count": 6,
      "metadata": {
        "colab": {
          "base_uri": "https://localhost:8080/"
        },
        "id": "ow5Jy3lLlhll",
        "outputId": "753475f1-7ff4-43c3-dfe3-631e7e430545"
      },
      "outputs": [
        {
          "name": "stdout",
          "output_type": "stream",
          "text": [
            "Added 88. List: [88]\n",
            "Removed 88. List: []\n",
            "List is empty. Nothing to remove.\n",
            "Added 91. List: [91]\n",
            "Added 32. List: [91, 32]\n",
            "Removed 91. List: [32]\n",
            "Added 15. List: [32, 15]\n",
            "Removed 32. List: [15]\n",
            "Added 20. List: [15, 20]\n",
            "Removed 15. List: [20]\n"
          ]
        }
      ],
      "source": [
        "import threading\n",
        "import time\n",
        "import random\n",
        "\n",
        "class SharedList:\n",
        "    def __init__(self):\n",
        "        self.items = []\n",
        "        self.lock = threading.Lock()\n",
        "\n",
        "    def add_item(self, item):\n",
        "        with self.lock:\n",
        "            self.items.append(item)\n",
        "            print(f\"Added {item}. List: {self.items}\")\n",
        "\n",
        "    def remove_item(self):\n",
        "        with self.lock:\n",
        "            if self.items:\n",
        "                item = self.items.pop(0)\n",
        "                print(f\"Removed {item}. List: {self.items}\")\n",
        "            else:\n",
        "                print(\"List is empty. Nothing to remove.\")\n",
        "\n",
        "def producer(shared_list):\n",
        "    for _ in range(5):\n",
        "        item = random.randint(1, 100)\n",
        "        shared_list.add_item(item)\n",
        "        time.sleep(random.random())\n",
        "\n",
        "def consumer(shared_list):\n",
        "    for _ in range(5):\n",
        "        shared_list.remove_item()\n",
        "        time.sleep(random.random())\n",
        "\n",
        "def main():\n",
        "    shared_list = SharedList()\n",
        "\n",
        "    producer_thread = threading.Thread(target=producer, args=(shared_list,))\n",
        "    consumer_thread = threading.Thread(target=consumer, args=(shared_list,))\n",
        "\n",
        "    producer_thread.start()\n",
        "    consumer_thread.start()\n",
        "\n",
        "    producer_thread.join()\n",
        "    consumer_thread.join()\n",
        "\n",
        "if __name__ == \"__main__\":\n",
        "    main()"
      ]
    },
    {
      "cell_type": "markdown",
      "metadata": {
        "id": "Ir600mNDlhlm"
      },
      "source": [
        "For my own notes :\n",
        "1. `SharedList` class:\n",
        "   - Contains the shared list (`items`) and a `threading.Lock` object.\n",
        "   - `add_item` method adds an item to the list, protected by the lock.\n",
        "   - `remove_item` method removes an item from the list, also protected by the lock.\n",
        "\n",
        "2. `producer` function:\n",
        "   - Runs in its own thread.\n",
        "   - Adds 5 random numbers to the shared list.\n",
        "   - Uses `time.sleep` to simulate variable processing time.\n",
        "\n",
        "3. `consumer` function:\n",
        "   - Runs in its own thread.\n",
        "   - Tries to remove 5 items from the shared list.\n",
        "   - Also uses `time.sleep` to simulate variable processing time.\n",
        "\n",
        "4. `main` function:\n",
        "   - Creates a `SharedList` instance.\n",
        "   - Starts a producer thread and a consumer thread.\n",
        "   - Waits for both threads to complete using `join()`.\n",
        "\n",
        "The use of `threading.Lock` in the `SharedList` methods ensures that only one thread can access the list at a time, preventing race conditions. The `with` statement is used for proper acquisition and release of the lock.\n",
        "\n",
        "\n",
        "This example demonstrates how to safely share data between threads and avoid race conditions using locks."
      ]
    },
    {
      "cell_type": "markdown",
      "metadata": {
        "id": "IUntkE-5lhlm"
      },
      "source": [
        "### 5. Describe the methods and tools available in Python for safely sharing data between threads and processes.\n",
        "\n",
        "* Answer -"
      ]
    },
    {
      "cell_type": "markdown",
      "metadata": {
        "id": "QlHBe9xElhlm"
      },
      "source": [
        "Python provides several methods and tools for safely sharing data between threads and processes. When working with concurrent programming in Python, it's essential to ensure that data is shared safely between threads or processes to avoid race conditions and other synchronization issues. The methods and tools available are:-\n",
        "\n",
        "* For Threads:\n",
        "\n",
        "1. threading.Lock():\n",
        "   - Basic mutual exclusion lock.\n",
        "   - Ensures only one thread can access a shared resource at a time.\n",
        "\n",
        "2. threading.RLock():\n",
        "   - Reentrant lock.\n",
        "   - Allows a thread to acquire the same lock multiple times without deadlocking.\n",
        "\n",
        "3. threading.Semaphore():\n",
        "   - Limits access to a shared resource to a fixed number of threads.\n",
        "\n",
        "4. threading.Event():\n",
        "   - Allows one thread to signal an event to other threads.\n",
        "\n",
        "5. threading.Condition():\n",
        "   - More complex synchronization object.\n",
        "   - Combines a lock and a wait list.\n",
        "\n",
        "6. queue.Queue:\n",
        "   - Thread-safe implementation of a FIFO(First in first out) queue.\n",
        "   - Useful for producer-consumer patterns.\n",
        "\n",
        "7. threading.local():\n",
        "   - Creates thread-local storage.\n",
        "   - Data is specific to each thread.\n",
        "\n",
        "* For Processes:\n",
        "\n",
        "1. multiprocessing.Queue():\n",
        "   - A queue for safely passing messages between processes.\n",
        "\n",
        "2. multiprocessing.Pipe():\n",
        "   - Provides a two-way communication channel between processes.\n",
        "\n",
        "3. multiprocessing.Value() and multiprocessing.Array():\n",
        "   - For sharing simple objects (e.g., numbers, characters) between processes.\n",
        "\n",
        "4. multiprocessing.Manager():\n",
        "   - Provides a way to create and manage shared data structures.\n",
        "   - Supports lists, dictionaries, Namespace objects, etc.\n",
        "\n",
        "5. multiprocessing.Lock(), multiprocessing.RLock(), multiprocessing.Semaphore(), multiprocessing.Event(), multiprocessing.Condition():\n",
        "   - Process-safe versions of their threading counterparts.\n",
        "\n",
        "6. multiprocessing.SharedMemory (Python 3.8+):\n",
        "   - Allows direct creation and management of shared memory segments.\n",
        "\n",
        "* Additional Tools:\n",
        "\n",
        "1. concurrent.futures:\n",
        "   - Provides high-level interfaces for asynchronously executing callables.\n",
        "   - ThreadPoolExecutor for threads and ProcessPoolExecutor for processes.\n",
        "\n",
        "2. asyncio:\n",
        "   - For writing single-threaded concurrent code using coroutines.\n",
        "   - Not directly for multithreading/multiprocessing, but relevant for concurrent programming.\n",
        "\n",
        "3. ctypes:\n",
        "   - Can be used to create shared memory between processes.\n",
        "\n",
        "4. mmap:\n",
        "   - Memory-mapped file objects, which can be used for inter-process communication.\n",
        "\n",
        "* Key Differences:\n",
        "\n",
        "- Thread-based tools (from the `threading` module) are lighter-weight but subject to the Global Interpreter Lock (GIL) in CPython.\n",
        "- Process-based tools (from the `multiprocessing` module) bypass the GIL but have more overhead.\n",
        "\n",
        "* When choosing between these options, consider:\n",
        "- The nature of your task (I/O-bound vs CPU-bound).\n",
        "- The complexity of the data being shared.\n",
        "- The level of synchronization required.\n",
        "- The potential impact on performance.\n",
        "\n",
        "Each of these tools has its own use cases, advantages, and limitations. The choice depends on the specific requirements of our concurrent programming task."
      ]
    },
    {
      "cell_type": "code",
      "execution_count": 7,
      "metadata": {
        "colab": {
          "base_uri": "https://localhost:8080/"
        },
        "id": "apEqpeJclhln",
        "outputId": "a702426a-2abc-43a8-d2d6-36037628d83a"
      },
      "outputs": [
        {
          "name": "stdout",
          "output_type": "stream",
          "text": [
            "40\n"
          ]
        }
      ],
      "source": [
        "# Example >> processesing\n",
        "\n",
        "# Shared memory: Suitable for sharing large amounts of data between processes.\n",
        "\n",
        "import multiprocessing\n",
        "\n",
        "value = multiprocessing.Value('i', 0)  # Shared integer\n",
        "\n",
        "def increment(value):\n",
        "    for _ in range(10):\n",
        "        value.value += 1\n",
        "\n",
        "if __name__ == \"__main__\":\n",
        "    processes = [multiprocessing.Process(target=increment, args=(value,)) for _ in range(4)]\n",
        "    for p in processes:\n",
        "        p.start()\n",
        "    for p in processes:\n",
        "        p.join()\n",
        "    print(value.value)"
      ]
    },
    {
      "cell_type": "code",
      "execution_count": 8,
      "metadata": {
        "colab": {
          "base_uri": "https://localhost:8080/"
        },
        "id": "aR8-UDh-lhln",
        "outputId": "804e98b3-0609-4b75-8413-355bd4e7c2f7"
      },
      "outputs": [
        {
          "name": "stdout",
          "output_type": "stream",
          "text": [
            "0\n",
            "1\n",
            "2\n",
            "3\n",
            "4\n",
            "5\n",
            "6\n",
            "7\n",
            "8\n",
            "9\n",
            "None\n"
          ]
        }
      ],
      "source": [
        "import multiprocessing\n",
        "\n",
        "\"\"\"Queues: Good for communication between processes or threads when the data is\n",
        "not necessarily shared.\"\"\"\n",
        "\n",
        "def producer(queue):\n",
        "    for i in range(10):\n",
        "        queue.put(i)\n",
        "\n",
        "def consumer(queue):\n",
        "    while True:\n",
        "        item = queue.get()\n",
        "        print(item)\n",
        "        if item is None:\n",
        "            break\n",
        "\n",
        "if __name__ == \"__main__\":\n",
        "    queue = multiprocessing.Queue()\n",
        "    producer_process = multiprocessing.Process(target=producer, args=(queue,))\n",
        "    consumer_process = multiprocessing.Process(target=consumer, args=(queue,))\n",
        "\n",
        "    producer_process.start()\n",
        "    consumer_process.start()\n",
        "\n",
        "    producer_process.join()\n",
        "    queue.put(None)  # Signal consumer to stop\n",
        "    consumer_process.join()"
      ]
    },
    {
      "cell_type": "code",
      "execution_count": 25,
      "metadata": {
        "colab": {
          "base_uri": "https://localhost:8080/"
        },
        "id": "Z0KCyW7Ulhln",
        "outputId": "7e8c404c-9843-4a5e-8b0d-cd918a8d1396"
      },
      "outputs": [
        {
          "name": "stdout",
          "output_type": "stream",
          "text": [
            "Hello from the parent process!\n"
          ]
        }
      ],
      "source": [
        "import os\n",
        "\n",
        "# Create a pair of pipes\n",
        "read_fd, write_fd = os.pipe()\n",
        "\n",
        "# Write data to the write end of the pipe\n",
        "os.write(write_fd, b\"Hello from the parent process!\")\n",
        "\n",
        "# Read data from the read end of the pipe\n",
        "data = os.read(read_fd, 1024)\n",
        "print(data.decode())"
      ]
    },
    {
      "cell_type": "code",
      "execution_count": 10,
      "metadata": {
        "colab": {
          "base_uri": "https://localhost:8080/"
        },
        "id": "mPVzeIZrlhln",
        "outputId": "edf6e4ae-84ed-47f3-9df1-093b6abce503"
      },
      "outputs": [
        {
          "name": "stdout",
          "output_type": "stream",
          "text": [
            "4000000\n"
          ]
        }
      ],
      "source": [
        "# Example >> threading\n",
        "#Locks and semaphores: Necessary for protecting shared resources from concurrent access.\n",
        "\n",
        "import threading\n",
        "\n",
        "count = 0\n",
        "lock = threading.Lock()\n",
        "\n",
        "def increment():\n",
        "    global count\n",
        "    for _ in range(1000000):\n",
        "        with lock:\n",
        "            count += 1\n",
        "\n",
        "if __name__ == \"__main__\":\n",
        "    threads = [threading.Thread(target=increment) for _ in range(4)]\n",
        "    for t in threads:\n",
        "        t.start()\n",
        "    for t in threads:\n",
        "        t.join()\n",
        "    print(count)"
      ]
    },
    {
      "cell_type": "markdown",
      "metadata": {
        "id": "P4vU5Ay7lhln"
      },
      "source": [
        "### 6. Discuss why it's crucial to handle exceptions in concurrent programs and the techniques available for doing so.\n",
        "\n",
        "* Answer -"
      ]
    },
    {
      "cell_type": "markdown",
      "metadata": {
        "id": "eDc3-0_Glhln"
      },
      "source": [
        "Handling exceptions in concurrent programs is indeed crucial.\n",
        "\n",
        "Why it's crucial to handle exceptions in concurrent programs:\n",
        "\n",
        "1. Stability and reliability:\n",
        "   Unhandled exceptions can cause threads or processes to terminate unexpectedly, potentially crashing the entire application or leaving it in an inconsistent state.\n",
        "\n",
        "2. Resource management:\n",
        "   Proper exception handling ensures resources (like file handles, network connections, or locks) are properly released, even when errors occur.\n",
        "\n",
        "3. Debugging and troubleshooting:\n",
        "   Without proper exception handling, it can be challenging to identify the source and nature of problems in concurrent code.\n",
        "\n",
        "4. Graceful degradation:\n",
        "   Effective exception handling allows the program to continue running, perhaps with reduced functionality, rather than failing completely.\n",
        "\n",
        "5. Data integrity:\n",
        "   In concurrent scenarios, exceptions can lead to data corruption if not properly managed, especially when multiple threads or processes are modifying shared data.\n",
        "\n",
        "6. User experience:\n",
        "   Proper exception handling allows for informative error messages and graceful failure modes, improving the overall user experience.\n",
        "\n",
        "\n",
        "When implementing these techniques, it's important to consider the specific requirements of the application, such as whether it is needed to propagate exceptions to a central handler, retry failed operations, or gracefully degrade functionality. The choice of technique often depends on the architecture of our application and the nature of the concurrent tasks being performed."
      ]
    },
    {
      "cell_type": "markdown",
      "metadata": {
        "id": "EpfDRhKzlhlo"
      },
      "source": [
        "### # Techniques available for handling exceptions in concurrent programs:"
      ]
    },
    {
      "cell_type": "code",
      "execution_count": 11,
      "metadata": {
        "colab": {
          "base_uri": "https://localhost:8080/",
          "height": 209
        },
        "id": "EF2Vcsxblhlo",
        "outputId": "eb998292-1760-4910-be83-a23031ca8a45"
      },
      "outputs": [
        {
          "name": "stdout",
          "output_type": "stream",
          "text": [
            "Error in worker:\n",
            " name 'calculate_something' is not definedError in worker:\n",
            " name 'calculate_something' is not defined\n",
            "\n",
            "Error in worker:\n",
            " name 'calculate_something' is not definedError in worker:\n",
            " name 'calculate_something' is not defined\n",
            "\n"
          ]
        },
        {
          "data": {
            "application/vnd.google.colaboratory.intrinsic+json": {
              "type": "string"
            },
            "text/plain": [
              "\"Key Points:\\n\\nThe threading.Thread class is used to create and manage threads.\\n\\nThe try-except block is essential for handling exceptions that may occur during the worker's execution.\\n\\nThe start() method starts the thread's execution.\\n\\nThe join() method waits for the thread to finish before continuing.\\n\\nThis code demonstrates a basic example of using threads in Python to perform concurrent tasks.\""
            ]
          },
          "execution_count": 11,
          "metadata": {},
          "output_type": "execute_result"
        }
      ],
      "source": [
        "# 1. Try-except blocks within thread/process functions:-\n",
        "# Catch and handle exceptions locally within each thread or process.\n",
        "import threading\n",
        "\n",
        "def worker():\n",
        "    try:\n",
        "        result = calculate_something()\n",
        "        print(f\"Worker result: {result}\")\n",
        "    except Exception as e:\n",
        "        print(f\"Error in worker:\\n {e}\")\n",
        "\n",
        "if __name__ == \"__main__\":\n",
        "    threads = [threading.Thread(target=worker) for _ in range(4)]\n",
        "    for thread in threads:\n",
        "        thread.start()\n",
        "    for thread in threads:\n",
        "        thread.join()\n",
        "\n",
        "\n",
        "\"\"\"Key Points:\n",
        "\n",
        "The threading.Thread class is used to create and manage threads.\n",
        "\n",
        "The try-except block is essential for handling exceptions that may occur during the worker's execution.\n",
        "\n",
        "The start() method starts the thread's execution.\n",
        "\n",
        "The join() method waits for the thread to finish before continuing.\n",
        "\n",
        "This code demonstrates a basic example of using threads in Python to perform concurrent tasks.\"\"\""
      ]
    },
    {
      "cell_type": "code",
      "execution_count": 12,
      "metadata": {
        "colab": {
          "base_uri": "https://localhost:8080/"
        },
        "id": "OGA0xrw8lhlo",
        "outputId": "72a9286f-2e9e-4a25-d917-bc9619c644c4"
      },
      "outputs": [
        {
          "name": "stdout",
          "output_type": "stream",
          "text": [
            "Unhandled exception in thread: name 'calculate_something' is not definedUnhandled exception in thread: name 'calculate_something' is not defined\n",
            "\n",
            "Unhandled exception in thread: name 'calculate_something' is not defined\n",
            "Unhandled exception in thread: name 'calculate_something' is not defined\n"
          ]
        }
      ],
      "source": [
        "#2. Global exception hooks:\n",
        "# Use threading.excepthook (Python 3.8+) for catching unhandled exceptions in threads.\n",
        "\n",
        "import threading\n",
        "import time\n",
        "\n",
        "def worker():\n",
        "    try:\n",
        "\n",
        "        result = calculate_something()\n",
        "        print(f\"Worker result: {result}\")\n",
        "    except Exception as e:\n",
        "        raise\n",
        "\n",
        "def handle_thread_exception(args):\n",
        "    print(f\"Unhandled exception in thread: {args.exc_value}\")\n",
        "\n",
        "threading.excepthook = handle_thread_exception\n",
        "\n",
        "if __name__ == \"__main__\":\n",
        "    threads = [threading.Thread(target=worker) for _ in range(4)]\n",
        "    for thread in threads:\n",
        "        thread.start()\n",
        "    for thread in threads:\n",
        "        thread.join()"
      ]
    },
    {
      "cell_type": "code",
      "execution_count": 13,
      "metadata": {
        "colab": {
          "base_uri": "https://localhost:8080/"
        },
        "id": "_EYpMcRulhlo",
        "outputId": "ca4ac994-d91c-46bd-d881-55733010e41f"
      },
      "outputs": [
        {
          "name": "stdout",
          "output_type": "stream",
          "text": [
            "Unhandled exception in thread: name 'error_queue' is not defined\n",
            "Unhandled exception in thread: name 'error_queue' is not defined\n",
            "Unhandled exception in thread: name 'error_queue' is not defined\n",
            "Unhandled exception in thread: name 'error_queue' is not defined\n"
          ]
        }
      ],
      "source": [
        "#3. Custom error queues:\n",
        "import queue\n",
        "import threading\n",
        "\n",
        "class ErrorQueue(queue.Queue):\n",
        "    def put(self, item):\n",
        "        # Custom error handling logic here\n",
        "        if isinstance(item, Exception):\n",
        "            print(f\"Error caught: {item}\")\n",
        "            # Log the error or take other actions\n",
        "        super().put(item)\n",
        "\n",
        "def worker():\n",
        "    try:\n",
        "\n",
        "        result = calculate_something()\n",
        "        print(f\"Worker result: {result}\")\n",
        "    except Exception as e:\n",
        "        error_queue.put(e)\n",
        "\n",
        "def main():\n",
        "    error_queue = ErrorQueue()\n",
        "\n",
        "    threads = [threading.Thread(target=worker) for _ in range(4)]\n",
        "    for thread in threads:\n",
        "        thread.start()\n",
        "    for thread in threads:\n",
        "        thread.join()\n",
        "\n",
        "    # Process the error queue\n",
        "    while not error_queue.empty():\n",
        "        error = error_queue.get()\n",
        "        print(f\"Error occurred: {error}\")\n",
        "\n",
        "if __name__ == \"__main__\":\n",
        "    main()"
      ]
    },
    {
      "cell_type": "code",
      "execution_count": 14,
      "metadata": {
        "colab": {
          "base_uri": "https://localhost:8080/"
        },
        "id": "RBQcdQpxlhlo",
        "outputId": "3c72656e-f546-44a0-d7f7-29eb1db45744"
      },
      "outputs": [
        {
          "name": "stdout",
          "output_type": "stream",
          "text": [
            "Error occurred: Cannot divide by zero\n",
            "Result: 1.0\n",
            "Result: 0.5\n",
            "Result: 0.3333333333333333\n",
            "Result: 0.25\n"
          ]
        }
      ],
      "source": [
        "#4. Using concurrent.futures: Leverage the built-in exception handling capabilities of concurrent.futures.\n",
        "\n",
        "from concurrent.futures import ThreadPoolExecutor\n",
        "\n",
        "def worker(x):\n",
        "    if x == 0:\n",
        "        raise ValueError(\"Cannot divide by zero\")\n",
        "    return 1 / x\n",
        "\n",
        "with ThreadPoolExecutor() as executor:\n",
        "    futures = [executor.submit(worker, i) for i in range(5)]\n",
        "    for future in futures:\n",
        "        try:\n",
        "            result = future.result()\n",
        "            print(f\"Result: {result}\")\n",
        "        except Exception as e:\n",
        "            print(f\"Error occurred: {e}\")"
      ]
    },
    {
      "cell_type": "code",
      "execution_count": 15,
      "metadata": {
        "colab": {
          "base_uri": "https://localhost:8080/"
        },
        "id": "7gLOQCDllhlp",
        "outputId": "95d81256-9281-4eef-af36-47ae39448e4e"
      },
      "outputs": [
        {
          "name": "stdout",
          "output_type": "stream",
          "text": [
            "Worker thread timed out\n"
          ]
        }
      ],
      "source": [
        "#5. Implementing a supervisor pattern:\n",
        "# Create a supervisor thread/process that monitors and potentially restarts failed workers.\n",
        "\n",
        "import threading\n",
        "import time\n",
        "\n",
        "def worker():\n",
        "    while True:\n",
        "        # Do some work\n",
        "        time.sleep(1)\n",
        "\n",
        "def supervisor():\n",
        "    time.sleep(5)  # Wait for 5 seconds\n",
        "\n",
        "supervisor_thread = threading.Thread(target=supervisor)\n",
        "supervisor_thread.start()\n",
        "\n",
        "worker_thread = threading.Thread(target=worker)\n",
        "worker_thread.start()\n",
        "\n",
        "worker_thread.join(timeout=1)  # Wait for 1 second\n",
        "if worker_thread.is_alive():\n",
        "    print(\"Worker thread timed out\")"
      ]
    },
    {
      "cell_type": "code",
      "execution_count": 16,
      "metadata": {
        "colab": {
          "base_uri": "https://localhost:8080/"
        },
        "id": "3BYCq_cSlhlp",
        "outputId": "b601ee57-ca3c-47c2-aeda-ca5016010fbb"
      },
      "outputs": [
        {
          "name": "stdout",
          "output_type": "stream",
          "text": [
            "Resource acquired by Thread-39 (worker)\n",
            "Worker 0 is using the resourceResource released by Thread-40 (worker)\n",
            "\n",
            "Error in worker 1: Resource already in use\n",
            "Resource acquired by Thread-41 (worker)\n",
            "Worker 2 is using the resource\n",
            "Resource released by Thread-42 (worker)\n",
            "Error in worker 3: Resource already in use\n",
            "Resource acquired by Thread-43 (worker)\n",
            "Worker 4 is using the resource\n",
            "Resource released by Thread-41 (worker)\n",
            "Error in worker 0: Resource not in use\n",
            "Error in worker 4: Resource not in use\n"
          ]
        }
      ],
      "source": [
        "#Context managers for resource management:\n",
        "#Use context managers to ensure resources are properly released, even in the face of exceptions.\n",
        "\n",
        "\n",
        "import threading\n",
        "import time\n",
        "import random\n",
        "from contextlib import contextmanager\n",
        "\n",
        "class ResourceManager:\n",
        "    def __init__(self):\n",
        "        self.lock = threading.Lock()\n",
        "        self.resource_in_use = False\n",
        "\n",
        "    @contextmanager\n",
        "    def use_resource(self):\n",
        "        try:\n",
        "            self.acquire_resource()\n",
        "            yield\n",
        "        finally:\n",
        "            self.release_resource()\n",
        "\n",
        "    def acquire_resource(self):\n",
        "        with self.lock:\n",
        "            if self.resource_in_use:\n",
        "                raise RuntimeError(\"Resource already in use\")\n",
        "            self.resource_in_use = True\n",
        "            print(f\"Resource acquired by {threading.current_thread().name}\")\n",
        "\n",
        "    def release_resource(self):\n",
        "        with self.lock:\n",
        "            if not self.resource_in_use:\n",
        "                raise RuntimeError(\"Resource not in use\")\n",
        "            self.resource_in_use = False\n",
        "            print(f\"Resource released by {threading.current_thread().name}\")\n",
        "\n",
        "def worker(resource_manager, worker_id):\n",
        "    try:\n",
        "        with resource_manager.use_resource():\n",
        "            print(f\"Worker {worker_id} is using the resource\")\n",
        "            # Simulate some work\n",
        "            time.sleep(random.random())\n",
        "            # Randomly raise an exception\n",
        "            if random.random() < 0.5:\n",
        "                raise Exception(f\"Random error in worker {worker_id}\")\n",
        "    except Exception as e:\n",
        "        print(f\"Error in worker {worker_id}: {e}\")\n",
        "\n",
        "def main():\n",
        "    resource_manager = ResourceManager()\n",
        "    threads = []\n",
        "\n",
        "    for i in range(5):\n",
        "        thread = threading.Thread(target=worker, args=(resource_manager, i))\n",
        "        threads.append(thread)\n",
        "        thread.start()\n",
        "\n",
        "    for thread in threads:\n",
        "        thread.join()\n",
        "\n",
        "if __name__ == \"__main__\":\n",
        "    main()"
      ]
    },
    {
      "cell_type": "code",
      "execution_count": 17,
      "metadata": {
        "colab": {
          "base_uri": "https://localhost:8080/"
        },
        "id": "SSLI41LAlhlp",
        "outputId": "4ca0f3be-0080-4f12-873c-5a21b901d195"
      },
      "outputs": [
        {
          "name": "stderr",
          "output_type": "stream",
          "text": [
            "ERROR:__main__:Error in thread Worker-1\n",
            "Traceback (most recent call last):\n",
            "  File \"<ipython-input-17-34e6dacafaaa>\", line 21, in worker\n",
            "    raise Exception(f\"Random error in worker {worker_id}\")\n",
            "Exception: Random error in worker 1\n",
            "ERROR:__main__:Error in thread Worker-0\n",
            "Traceback (most recent call last):\n",
            "  File \"<ipython-input-17-34e6dacafaaa>\", line 21, in worker\n",
            "    raise Exception(f\"Random error in worker {worker_id}\")\n",
            "Exception: Random error in worker 0\n",
            "ERROR:__main__:Error in thread Worker-2\n",
            "Traceback (most recent call last):\n",
            "  File \"<ipython-input-17-34e6dacafaaa>\", line 21, in worker\n",
            "    raise Exception(f\"Random error in worker {worker_id}\")\n",
            "Exception: Random error in worker 2\n",
            "ERROR:__main__:Error in thread Worker-3\n",
            "Traceback (most recent call last):\n",
            "  File \"<ipython-input-17-34e6dacafaaa>\", line 21, in worker\n",
            "    raise Exception(f\"Random error in worker {worker_id}\")\n",
            "Exception: Random error in worker 3\n"
          ]
        }
      ],
      "source": [
        "#7. Logging:\n",
        "\n",
        "import logging\n",
        "import threading\n",
        "import random\n",
        "import time\n",
        "\n",
        "# Configure the logging system\n",
        "logging.basicConfig(level=logging.ERROR,\n",
        "                    format='%(asctime)s - %(threadName)s - %(levelname)s - %(message)s')\n",
        "logger = logging.getLogger(__name__)\n",
        "\n",
        "def worker(worker_id):\n",
        "    logger.info(f\"Worker {worker_id} started\")\n",
        "    try:\n",
        "        # Simulate some work\n",
        "        time.sleep(random.random())\n",
        "\n",
        "        # Randomly raise an exception\n",
        "        if random.random() < 0.5:\n",
        "            raise Exception(f\"Random error in worker {worker_id}\")\n",
        "\n",
        "        logger.info(f\"Worker {worker_id} completed successfully\")\n",
        "    except Exception as e:\n",
        "        logger.exception(f\"Error in thread {threading.current_thread().name}\")\n",
        "\n",
        "def main():\n",
        "    threads = []\n",
        "    for i in range(5):\n",
        "        thread = threading.Thread(target=worker, args=(i,), name=f\"Worker-{i}\")\n",
        "        threads.append(thread)\n",
        "        thread.start()\n",
        "\n",
        "    for thread in threads:\n",
        "        thread.join()\n",
        "\n",
        "    logger.info(\"All workers completed\")\n",
        "\n",
        "if __name__ == \"__main__\":\n",
        "    main()"
      ]
    },
    {
      "cell_type": "markdown",
      "metadata": {
        "id": "Tc-4R8nBlhlp"
      },
      "source": [
        "### 7. Create a program that uses a thread pool to calculate the factorial of numbers from 1 to 10 concurrently. Use concurrent.futures.ThreadPoolExecutor to manage the threads.\n",
        "\n",
        "* Answer -"
      ]
    },
    {
      "cell_type": "code",
      "execution_count": 1,
      "metadata": {
        "colab": {
          "base_uri": "https://localhost:8080/"
        },
        "id": "fDkKRmcmlhlp",
        "outputId": "ba009c68-b839-49e7-9af9-a41db4dea329"
      },
      "outputs": [
        {
          "name": "stdout",
          "output_type": "stream",
          "text": [
            "Factorial of 1 is 1\n",
            "\n",
            "Factorial of 2 is 2\n",
            "\n",
            "Factorial of 3 is 6\n",
            "\n",
            "Factorial of 4 is 24\n",
            "\n",
            "Factorial of 5 is 120\n",
            "\n",
            "Factorial of 6 is 720\n",
            "\n",
            "Factorial of 7 is 5040\n",
            "\n",
            "Factorial of 8 is 40320\n",
            "\n",
            "Factorial of 9 is 362880\n",
            "\n",
            "Factorial of 10 is 3628800\n",
            "\n",
            "\n",
            "All calculations completed.\n",
            "Time taken: 0.0040 seconds\n"
          ]
        }
      ],
      "source": [
        "import concurrent.futures\n",
        "import time\n",
        "\n",
        "def factorial(n):\n",
        "    if n == 0 or n == 1:\n",
        "        return 1\n",
        "    else:\n",
        "        return n * factorial(n - 1)\n",
        "\n",
        "def calculate_factorial(n):\n",
        "    result = factorial(n)\n",
        "    print(f\"Factorial of {n} is {result}\\n\")\n",
        "    return result\n",
        "\n",
        "def main():\n",
        "    numbers = range(1, 11)\n",
        "\n",
        "    start_time = time.time()\n",
        "\n",
        "    with concurrent.futures.ThreadPoolExecutor() as executor:\n",
        "        # Submit all tasks to the executor\n",
        "        futures = [executor.submit(calculate_factorial, num) for num in numbers]\n",
        "\n",
        "        # Wait for all tasks to complete and collect results\n",
        "        results = [future.result() for future in concurrent.futures.as_completed(futures)]\n",
        "\n",
        "    end_time = time.time()\n",
        "\n",
        "    print(\"\\nAll calculations completed.\")\n",
        "    print(f\"Time taken: {end_time - start_time:.4f} seconds\")\n",
        "\n",
        "if __name__ == \"__main__\":\n",
        "    main()"
      ]
    },
    {
      "cell_type": "markdown",
      "metadata": {
        "id": "LVUY-RQ3lhlp"
      },
      "source": [
        "### 8. Create a Python program that uses multiprocessing.pool to compute the square of numbers from 1 to 10 in parallel. Measure the time taken to perform this computation using a pool of different sizes (e.g., 2, 4, 8, processes).\n",
        "\n",
        "* Answer -"
      ]
    },
    {
      "cell_type": "code",
      "execution_count": 23,
      "metadata": {
        "colab": {
          "base_uri": "https://localhost:8080/"
        },
        "id": "y9-V9qpPlhlp",
        "outputId": "6fe8b8bb-18c8-4727-ec0a-007ddcaada7f"
      },
      "outputs": [
        {
          "name": "stdout",
          "output_type": "stream",
          "text": [
            "Square: 1\n",
            "Square: 4\n",
            "Square: 9Square: 25\n",
            "Square: 16\n",
            "\n",
            "Square: 36Square: 49\n",
            "\n",
            "Square: 81Square: 64\n",
            "\n",
            "Square: 100\n",
            "Pool size: 2\n",
            "Results: [(1, None), (2, None), (3, None), (4, None), (5, None), (6, None), (7, None), (8, None), (9, None), (10, None)]\n",
            "Time taken: 0.151807 seconds\n",
            "\n",
            "Square: 4Square: 1\n",
            "\n",
            "Square: 25Square: 9Square: 16Square: 36\n",
            "\n",
            "\n",
            "\n",
            "Square: 100Square: 64Square: 49Square: 81\n",
            "\n",
            "\n",
            "\n",
            "Pool size: 4\n",
            "Results: [(1, None), (2, None), (3, None), (4, None), (5, None), (6, None), (7, None), (8, None), (9, None), (10, None)]\n",
            "Time taken: 0.167633 seconds\n",
            "\n",
            "Square: 1Square: 4Square: 9Square: 36Square: 25Square: 49Square: 16\n",
            "\n",
            "\n",
            "\n",
            "\n",
            "Square: 64Square: 100Square: 81\n",
            "\n",
            "\n",
            "\n",
            "\n",
            "Pool size: 8\n",
            "Results: [(1, None), (2, None), (3, None), (4, None), (5, None), (6, None), (7, None), (8, None), (9, None), (10, None)]\n",
            "Time taken: 0.260978 seconds\n",
            "\n"
          ]
        }
      ],
      "source": [
        "import multiprocessing\n",
        "import time\n",
        "\n",
        "def square(x):\n",
        "    print(\"Square: {}\".format(x * x))\n",
        "    #return x * x\n",
        "\n",
        "def calculate_squares(pool_size):\n",
        "    numbers = range(1, 11)\n",
        "    start_time = time.time()\n",
        "\n",
        "    with multiprocessing.Pool(pool_size) as pool:\n",
        "        results = pool.map(square, numbers)\n",
        "\n",
        "    end_time = time.time()\n",
        "\n",
        "    print(f\"Pool size: {pool_size}\")\n",
        "    print(f\"Results: {list(zip(numbers, results))}\")\n",
        "    print(f\"Time taken: {end_time - start_time:.6f} seconds\\n\")\n",
        "\n",
        "if __name__ == \"__main__\":\n",
        "    for pool_size in [2, 4, 8]:\n",
        "        calculate_squares(pool_size)"
      ]
    },
    {
      "cell_type": "code",
      "execution_count": null,
      "metadata": {
        "id": "5DqX0Ub1lhlq"
      },
      "outputs": [],
      "source": []
    }
  ],
  "metadata": {
    "colab": {
      "provenance": []
    },
    "kernelspec": {
      "display_name": "Python 3",
      "language": "python",
      "name": "python3"
    },
    "language_info": {
      "codemirror_mode": {
        "name": "ipython",
        "version": 3
      },
      "file_extension": ".py",
      "mimetype": "text/x-python",
      "name": "python",
      "nbconvert_exporter": "python",
      "pygments_lexer": "ipython3",
      "version": "3.11.9"
    }
  },
  "nbformat": 4,
  "nbformat_minor": 0
}
